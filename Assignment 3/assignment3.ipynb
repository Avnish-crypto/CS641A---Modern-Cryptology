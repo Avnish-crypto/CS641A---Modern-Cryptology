{
 "cells": [
  {
   "cell_type": "code",
   "execution_count": 1,
   "id": "9a5737a0",
   "metadata": {},
   "outputs": [],
   "source": [
    "cipher_text = \"qmnjvsa nv wewc flct vprj tj tvvplvl fv xja vqildhc xmlnvc nacyclpa fc gyt vfvw. fv wgqyp, pqq pqcs y wsq rx qmnjvafy cgv tlvhf cw tyl aeuq fv xja tkbv cqnsqs. lhf avawnc cv eas fuqb qvq tc yllrqr xxwa cfy. psdc uqf avrqc gefq pyat trac xwv taa wwd dv eas flcbq. vd trawm vupq quw x decgqcwt, yq yafl vlqs yqklhq! snafq vml lhvqpawr nqg_vfusr_ec_wawy qp fn wgawdgf.\"\n",
    "\n",
    "punctuations = set(['!','@','#','$','%','^','&','(',')','_','-','+','=','{','}',';',':','/','?','|','.',' ',',','~','`','[',']','-','1','2','3','4','5','6','7','8','9','0',','])\n",
    "\n",
    "# removing space and special characters\n",
    "\n",
    "temp = \"\"\n",
    "\n",
    "for i in cipher_text :\n",
    "    if i not in punctuations:\n",
    "        temp += i.lower()"
   ]
  },
  {
   "cell_type": "code",
   "execution_count": 2,
   "id": "c1e5fbf8",
   "metadata": {},
   "outputs": [
    {
     "data": {
      "text/plain": [
       "'qmnjvsanvwewcflctvprjtjtvvplvlfvxjavqildhcxmlnvcnacyclpafcgytvfvwfvwgqyppqqpqcsywsqrxqmnjvafycgvtlvhfcwtylaeuqfvxjatkbvcqnsqslhfavawnccveasfuqbqvqtcyllrqrxxwacfypsdcuqfavrqcgefqpyattracxwvtaawwddveasflcbqvdtrawmvupqquwxdecgqcwtyqyaflvlqsyqklhqsnafqvmllhvqpawrnqgvfusrecwawyqpfnwgawdgf'"
      ]
     },
     "execution_count": 2,
     "metadata": {},
     "output_type": "execute_result"
    }
   ],
   "source": [
    "temp  #encrpted text after space and special char removal"
   ]
  },
  {
   "cell_type": "code",
   "execution_count": 3,
   "id": "c89fd627",
   "metadata": {},
   "outputs": [],
   "source": [
    "# decoding the permutation - [4,3,5,1,2]\n",
    "permutated_text = \"\"\n",
    "for i in range(len(temp)//5):    # to handle case if len is not divisible by 5\n",
    "    permutated_text += temp[i*5+4-1]\n",
    "    permutated_text += temp[i*5+3-1]\n",
    "    permutated_text += temp[i*5+5-1]\n",
    "    permutated_text += temp[i*5+1-1]\n",
    "    permutated_text += temp[i*5+2-1]\n",
    "\n",
    "x = temp[-(len(temp)%5):] # adding remaining string as it is because padding is not used.(giving wrong result when we solved considering it)\n",
    "permutated_text += x\n",
    "    "
   ]
  },
  {
   "cell_type": "code",
   "execution_count": 4,
   "id": "054f0f52",
   "metadata": {},
   "outputs": [
    {
     "data": {
      "text/plain": [
       "'jnvqmvnwsafclewpvrcttjvjtvllvpjxafvlidvqmxlhcncanvlcpcygcyafvfwtvgwqfvqpqypscypqrqxwsjnvqmcygafvlhvttwyfcueqlajxafvvbctkqssqnafvlhcncawsafveqbvuqyclqtrqxlrcafxwdscypafvuqgcerqypafqarctttvaxwdwdawsafveqbvlcarwdtpuqmvxwdquqgcecqyywtvllafqykqssqnlhvqmafvhqllrwnpafvuqgcewsrqypawgwafnwdgf'"
      ]
     },
     "execution_count": 4,
     "metadata": {},
     "output_type": "execute_result"
    }
   ],
   "source": [
    "permutated_text  #de-permutated_text"
   ]
  },
  {
   "cell_type": "code",
   "execution_count": 5,
   "id": "36144f04",
   "metadata": {},
   "outputs": [],
   "source": [
    "# decoding substitution\n",
    "# mapping \n",
    "key = {'a': 't', 'b': 'v', 'c': 'i', 'd': 'u', 'e': 'c', 'f': 'h', 'g': 'g', 'h': 'p', 'i': 'q', 'j': 'b', 'l': 's', 'm': 'k', 'n': 'r', 'p': 'd', 'q': 'a', 'r': 'w', 's': 'f', 't': 'l', 'u': 'm', 'v': 'e', 'w': 'o', 'x': 'y', 'y': 'n','k':'j','0':'0','1':'1','2':'2','3':'3','4':'4','5':'5','6':'6','7':'7','8':'8','9':'9','!':'!','@':'@','#':'#','$':'$','%':'%','*':'*','(':'(',')':')','-':'-','_':'_'}\n",
    "clean_text = \"\"\n",
    "for i in permutated_text:\n",
    "    clean_text += key[i]"
   ]
  },
  {
   "cell_type": "code",
   "execution_count": 6,
   "id": "68162c7d",
   "metadata": {},
   "outputs": [
    {
     "data": {
      "text/plain": [
       "'breakerofthiscodewillbeblessedbythesqueakyspiritresidingintheholegoaheadandfindawayofbreakingthespellonhimcastbytheeviljaffarthespiritofthecavemanisalwayswithyoufindthemagicwandthatwillletyououtofthecavesitwouldmakeyouamagiciannolessthanjaffarspeakthepasswordthemagicofwandtogothrough'"
      ]
     },
     "execution_count": 6,
     "metadata": {},
     "output_type": "execute_result"
    }
   ],
   "source": [
    "clean_text  "
   ]
  },
  {
   "cell_type": "code",
   "execution_count": 7,
   "id": "95b54682",
   "metadata": {},
   "outputs": [],
   "source": [
    "# adding removed punctuations\n",
    "perm_text = \"\"\n",
    "j = 0 \n",
    "for i in range(len(cipher_text)):\n",
    "    if cipher_text[i] in punctuations:\n",
    "        perm_text += cipher_text[i]\n",
    "    else:\n",
    "        perm_text += clean_text[j]\n",
    "        j+= 1"
   ]
  },
  {
   "cell_type": "code",
   "execution_count": 9,
   "id": "848cc079",
   "metadata": {},
   "outputs": [
    {
     "data": {
      "text/plain": [
       "'breaker of this code will be blessed by the squeaky spirit residing in the hole. go ahead, and find a way of breaking the spell on him cast by the evil jaffar. the spirit of the cave man is always with you. find the magic wand that will let you out of the caves. it would make you a magician, no less than jaffar! speak the password the_magic_of_wand to go through.'"
      ]
     },
     "execution_count": 9,
     "metadata": {},
     "output_type": "execute_result"
    }
   ],
   "source": [
    "perm_text  #encrypted_text"
   ]
  },
  {
   "cell_type": "code",
   "execution_count": null,
   "id": "b7c554fc",
   "metadata": {},
   "outputs": [],
   "source": []
  }
 ],
 "metadata": {
  "kernelspec": {
   "display_name": "Python 3 (ipykernel)",
   "language": "python",
   "name": "python3"
  },
  "language_info": {
   "codemirror_mode": {
    "name": "ipython",
    "version": 3
   },
   "file_extension": ".py",
   "mimetype": "text/x-python",
   "name": "python",
   "nbconvert_exporter": "python",
   "pygments_lexer": "ipython3",
   "version": "3.9.12"
  }
 },
 "nbformat": 4,
 "nbformat_minor": 5
}
