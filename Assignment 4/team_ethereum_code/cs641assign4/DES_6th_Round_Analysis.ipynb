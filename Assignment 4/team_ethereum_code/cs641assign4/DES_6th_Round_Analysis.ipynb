{
  "cells": [
    {
      "cell_type": "code",
      "execution_count": 1,
      "metadata": {
        "ExecuteTime": {
          "end_time": "2022-03-10T16:18:19.620825Z",
          "start_time": "2022-03-10T16:18:17.829843Z"
        },
        "id": "0VCRxMMKHWJu"
      },
      "outputs": [
        {
          "name": "stderr",
          "output_type": "stream",
          "text": [
            "c:\\Users\\pc\\miniconda3\\lib\\site-packages\\numpy\\_distributor_init.py:30: UserWarning: loaded more than 1 DLL from .libs:\n",
            "c:\\Users\\pc\\miniconda3\\lib\\site-packages\\numpy\\.libs\\libopenblas.EL2C6PLE4ZYW3ECEVIV3OXXGRN2NRFM2.gfortran-win_amd64.dll\n",
            "c:\\Users\\pc\\miniconda3\\lib\\site-packages\\numpy\\.libs\\libopenblas.XWYDX2IKJW2NMTWSFYNGFUWKQU3LYTCZ.gfortran-win_amd64.dll\n",
            "  warnings.warn(\"loaded more than 1 DLL from .libs:\"\n"
          ]
        }
      ],
      "source": [
        "import numpy as np #importing all the necessary modules"
      ]
    },
    {
      "cell_type": "code",
      "execution_count": 5,
      "metadata": {},
      "outputs": [],
      "source": [
        "f2u_mapping={'f': '0000',\n",
        "             'g': '0001',\n",
        "             'h': '0010',\n",
        "             'i': '0011',\n",
        "             'j': '0100',\n",
        "             'k': '0101',\n",
        "             'l': '0110',\n",
        "             'm': '0111',\n",
        "             'n': '1000',\n",
        "             'o': '1001',\n",
        "             'p': '1010',\n",
        "             'q': '1011',\n",
        "             'r': '1100',\n",
        "             's': '1101',\n",
        "             't': '1110',\n",
        "             'u': '1111'}\n",
        "\n",
        "mapping = {\n",
        "           'f' : [0,0,0,0],\n",
        "           'g' : [0,0,0,1],\n",
        "           'h' : [0,0,1,0],\n",
        "           'i' : [0,0,1,1],\n",
        "           'j' : [0,1,0,0],\n",
        "           'k' : [0,1,0,1],\n",
        "           'l' : [0,1,1,0],\n",
        "           'm' : [0,1,1,1],\n",
        "           'n' : [1,0,0,0],\n",
        "           'o' : [1,0,0,1],\n",
        "           'p' : [1,0,1,0],\n",
        "           'q' : [1,0,1,1],\n",
        "           'r' : [1,1,0,0],\n",
        "           's' : [1,1,0,1],\n",
        "           't' : [1,1,1,0],\n",
        "           'u' : [1,1,1,1]\n",
        "          }"
      ]
    },
    {
      "cell_type": "code",
      "execution_count": 6,
      "metadata": {},
      "outputs": [],
      "source": [
        "# Expansion E-box Table \n",
        "E = [32, 1 , 2 , 3 , 4 , 5 , 4 , 5,  6 , 7 , 8 , 9 , 8 , 9 , 10, 11,  12, 13, 12, 13, 14, 15, 16, 17,  16, 17, 18, 19, 20, 21, 20, 21, 22, 23, 24, 25, 24, 25, 26, 27, 28, 29, 28, 29, 30, 31, 32, 1 ] \n",
        "  \n",
        "#Inverse of P\n",
        "INVP = [9, 17, 23, 31,13, 28,  2, 18, 24, 16, 30,  6, 26, 20, 10, 1,8, 14, 25,  3, 4, 29, 11, 19,32, 12, 22,  7,5, 27, 15, 21]\n",
        "\n",
        "# S-box Table \n",
        "sbox = [[[14, 4, 13, 1, 2, 15, 11, 8, 3 , 10, 6, 12, 5, 9, 0, 7],[0, 15, 7, 4, 14, 2, 13, 1, 10, 6, 12, 11, 9, 5, 3, 8],[4, 1 , 14, 8, 13, 6, 2, 11, 15, 12, 9, 7,3, 10, 5, 0],[15, 12, 8,2,4, 9, 1,7 , 5, 11, 3, 14, 10, 0, 6, 13]],\n",
        "[[15, 1, 8, 14, 6, 11, 3, 4, 9, 7, 2, 13, 12, 0,5, 10],[3, 13, 4, 7, 15, 2, 8, 14, 12, 0, 1, 10, 6, 9, 11, 5],[0, 14, 7, 11, 10, 4, 13, 1, 5, 8,12, 6, 9, 3, 2, 15],[13, 8, 10, 1, 3, 15, 4, 2,11,6, 7, 12, 0,5, 14, 9]],\n",
        "[[10, 0, 9,14,6,3,15,5, 1, 13, 12, 7, 11, 4,2,8],[13, 7, 0, 9, 3, 4, 6, 10, 2, 8, 5, 14, 12, 11, 15, 1],[13, 6, 4, 9, 8, 15, 3, 0, 11, 1, 2, 12,5, 10, 14, 7],[1, 10, 13, 0, 6, 9, 8, 7, 4, 15, 14, 3, 11, 5, 2, 12]],\n",
        "[[7, 13, 14, 3, 0, 6, 9, 10, 1, 2, 8, 5, 11, 12, 4, 15],[13, 8, 11, 5, 6, 15, 0, 3, 4, 7, 2, 12, 1, 10, 14, 9],[10, 6, 9, 0, 12, 11, 7, 13, 15, 1 , 3, 14, 5, 2, 8, 4],[3, 15, 0, 6, 10, 1, 13, 8, 9, 4, 5, 11, 12, 7, 2, 14]],\n",
        "[[2, 12, 4, 1, 7, 10, 11, 6, 8, 5, 3, 15, 13, 0, 14, 9],[14, 11,2, 12, 4, 7, 13, 1, 5, 0, 15, 10, 3, 9, 8, 6],[4, 2, 1, 11, 10, 13, 7, 8, 15, 9, 12, 5, 6, 3, 0, 14],[11, 8, 12, 7, 1, 14, 2, 13, 6, 15, 0, 9, 10, 4, 5, 3]],\n",
        "[[12, 1, 10, 15, 9, 2, 6,8, 0, 13, 3, 4, 14, 7, 5, 11],[10, 15, 4, 2, 7, 12, 9, 5, 6, 1, 13, 14, 0, 11, 3, 8],[9, 14, 15, 5, 2,8, 12, 3, 7, 0, 4, 10, 1, 13, 11, 6],[4, 3, 2, 12, 9, 5, 15, 10, 11, 14, 1, 7, 6, 0, 8, 13]],\n",
        "[[4, 11, 2, 14, 15, 0, 8, 13, 3, 12, 9, 7, 5, 10, 6, 1],[13, 0, 11, 7, 4, 9, 1, 10, 14, 3, 5, 12, 2, 15, 8, 6],[1, 4, 11, 13, 12, 3, 7, 14, 10, 15, 6, 8, 0, 5, 9, 2],[6, 11, 13, 8, 1, 4, 10, 7, 9, 5, 0, 15, 14, 2, 3, 12]],\n",
        "[[13, 2, 8, 4, 6, 15, 11, 1, 10, 9, 3, 14, 5, 0, 12,7],[1, 15, 13, 8, 10, 3, 7, 4, 12, 5, 6, 11, 0, 14, 9, 2],[7, 11, 4, 1, 9, 12, 14, 2, 0, 6, 10, 13, 15, 3, 5, 8],[2, 1, 14, 7, 4, 10, 8, 13, 15, 12, 9, 0, 3, 5, 6, 11]]] \n",
        "    \n",
        "\n",
        "## Key Schedule\n",
        "PC2 = [14, 17, 11, 24,  1, 5, 3, 28 ,15,  6, 21, 10, 23, 19, 12,  4, 26, 8, 16,  7, 27, 20, 13, 2, 41, 52, 31, 37, 47, 55, 30, 40, 51, 45, 33, 48, 44, 49, 39, 56, 34, 53, 46, 42, 50, 36, 29, 32]\n",
        "\n",
        "## Reverse Final Permutation\n",
        "RFP = [57, 49, 41, 33, 25, 17, 9,  1,59, 51, 43, 35, 27, 19, 11, 3,61, 53, 45, 37, 29, 21, 13, 5,63, 55, 47, 39, 31, 23, 15, 7,58, 50, 42, 34, 26, 18, 10, 2,60, 52, 44, 36, 28, 20, 12, 4,62, 54, 46, 38, 30, 22, 14, 6,64, 56, 48, 40, 32, 24, 16, 8]\n",
        "\n",
        "#shift table \n",
        "shift_table = [1, 1, 2, 2, 2, 2, 2, 2, 1, 2, 2, 2, 2, 2, 2, 1 ] \n",
        "  \n",
        "# Key- Compression Table : Compression of key from 56 bits to 48 bits \n",
        "key_comp = [14, 17, 11, 24, 1, 5, 3, 28, 15, 6, 21, 10, 23, 19, 12, 4, 26, 8, 16, 7, 27, 20, 13, 2,  41, 52, 31, 37, 47, 55, 30, 40, 51, 45, 33, 48, 44, 49, 39, 56, 34, 53, 46, 42, 50, 36, 29, 32 ] \n",
        "  \n",
        "\n",
        "# Permutation at start of DES\n",
        "initial_perm = [58, 50, 42, 34, 26, 18, 10, 2,  \n",
        "                60, 52, 44, 36, 28, 20, 12, 4,  \n",
        "                62, 54, 46, 38, 30, 22, 14, 6,  \n",
        "                64, 56, 48, 40, 32, 24, 16, 8,  \n",
        "                57, 49, 41, 33, 25, 17, 9, 1,  \n",
        "                59, 51, 43, 35, 27, 19, 11, 3,  \n",
        "                61, 53, 45, 37, 29, 21, 13, 5,  \n",
        "                63, 55, 47, 39, 31, 23, 15, 7]\n",
        "\n",
        "## S Box Permutation Table\n",
        "sboxper = [ 16,  7, 20, 21, 29, 12, 28, 17, 1, 15, 23, 26, 5, 18, 31, 10,  2,  8, 24, 14, 32, 27,  3,  9, 19, 13, 30,  6, 22, 11,  4, 25 ] \n",
        "        \n",
        "## Permutation at the end of DES\n",
        "final_perm = [ 40, 8, 48, 16, 56, 24, 64, 32,39, 7, 47, 15, 55, 23, 63, 31, 38, 6, 46, 14, 54, 22, 62, 30, 37, 5, 45, 13, 53, 21, 61, 29, 36, 4, 44, 12, 52, 20, 60, 28, 35, 3, 43, 11, 51, 19, 59, 27, 34, 2, 42, 10, 50, 18, 58, 26, 33, 1, 41, 9, 49, 17, 57, 25 ] "
      ]
    },
    {
      "cell_type": "code",
      "execution_count": 7,
      "metadata": {
        "ExecuteTime": {
          "end_time": "2022-03-10T16:18:19.636446Z",
          "start_time": "2022-03-10T16:18:19.624469Z"
        },
        "id": "hF3sT4_QHqiH"
      },
      "outputs": [],
      "source": [
        "# Permute function to rearrange the bits \n",
        "def permute(k, arr, n): \n",
        "    temp = \"\" \n",
        "    for i in range(0, n): \n",
        "        temp = temp + k[arr[i] - 1] \n",
        "    return temp \n",
        "  \n",
        "# shifting the bits towards left by nth shifts \n",
        "def shift(k, n): \n",
        "    return k[n:] + k[0:n]"
      ]
    },
    {
      "cell_type": "code",
      "execution_count": 9,
      "metadata": {
        "ExecuteTime": {
          "end_time": "2022-03-10T16:18:23.899238Z",
          "start_time": "2022-03-10T16:18:19.735169Z"
        },
        "colab": {
          "base_uri": "https://localhost:8080/"
        },
        "id": "rGQG2NeDIIEq",
        "outputId": "334a442f-15f1-4bde-cdc1-0cc08d706cb5"
      },
      "outputs": [
        {
          "name": "stdout",
          "output_type": "stream",
          "text": [
            "[[189. 179. 160. 159. 154. 155. 155. 152. 189. 165. 174. 160. 149. 189.\n",
            "  154. 162. 184. 160. 160. 176. 160. 180. 145. 166. 173. 184. 164. 171.\n",
            "  169. 184. 162. 162. 170. 163. 158. 170. 175. 156. 135. 175. 178. 180.\n",
            "  154. 171. 178. 177. 180. 167. 181. 178. 168. 178. 193. 170. 173. 162.\n",
            "  170. 170. 164. 175. 182. 332. 159. 155.]\n",
            " [170. 174. 180. 182. 156. 217. 186. 198. 188. 205. 163. 176. 189. 205.\n",
            "  225. 188. 178. 182. 178. 216. 168. 195. 202. 185. 184. 176. 186. 197.\n",
            "  201. 159. 181. 160. 201. 177. 187. 200. 176. 170. 201. 175. 190. 174.\n",
            "  157. 209. 184. 188. 209. 177. 163. 216. 188. 797. 162. 192. 164. 211.\n",
            "  193. 186. 212. 200. 207. 204. 166. 194.]\n",
            " [145. 176. 163. 175. 160. 177. 151. 152. 171. 175. 167. 163. 165. 157.\n",
            "  146. 160. 202. 179. 157. 148. 151. 152. 185. 147. 178. 178. 158. 151.\n",
            "  178. 161. 147. 159. 156. 180. 159. 165. 165. 302. 153. 155. 143. 186.\n",
            "  181. 154. 175. 180. 181. 145. 149. 175. 192. 169. 157. 149. 157. 160.\n",
            "  149. 176. 177. 169. 149. 154. 161. 153.]\n",
            " [155. 185. 189. 155. 158. 139. 152. 246. 150. 148. 172. 166. 168. 146.\n",
            "  171. 154. 150. 154. 155. 164. 147. 155. 182. 153. 172. 187. 154. 155.\n",
            "  150. 148. 162. 160. 167. 174. 162. 176. 165. 157. 161. 167. 197. 170.\n",
            "  161. 176. 176. 201. 147. 175. 153. 150. 160. 169. 162. 163. 161. 171.\n",
            "  152. 171. 165. 157. 181. 168. 176. 145.]\n",
            " [188. 175. 149. 153. 184. 162. 151. 170. 151. 169. 174. 164. 172. 188.\n",
            "  160. 184. 181. 159. 195. 179. 174. 156. 159. 172. 188. 181. 154. 156.\n",
            "  174. 162. 186. 162. 153. 157. 150. 158. 166. 150. 164. 172. 177. 153.\n",
            "  182. 403. 166. 175. 162. 161. 171. 183. 165. 171. 165. 166. 163. 157.\n",
            "  174. 175. 134. 174. 176. 162. 161. 168.]\n",
            " [188. 187. 170. 169. 166. 180. 206. 173. 161. 208. 190. 203. 174. 214.\n",
            "  174. 156. 195. 182. 169. 201. 209. 210. 184. 163. 162. 179. 188. 167.\n",
            "  184. 171. 172. 164. 176. 189. 189. 183. 164. 181. 210. 201. 170. 170.\n",
            "  186. 164. 177. 192. 166. 170. 248. 786. 193. 171. 182. 186. 189. 169.\n",
            "  159. 203. 213. 183. 179. 188. 175. 165.]\n",
            " [166. 193. 154. 160. 159. 175. 171. 176. 173. 186. 174. 189. 168. 167.\n",
            "  165. 158. 158. 178. 173. 168. 162. 162. 179. 185. 178. 515. 179. 178.\n",
            "  158. 186. 187. 177. 150. 197. 167. 190. 178. 187. 191. 171. 190. 167.\n",
            "  187. 172. 176. 196. 163. 183. 172. 150. 192. 155. 175. 166. 156. 178.\n",
            "  183. 166. 170. 175. 187. 182. 154. 169.]\n",
            " [150. 162. 183. 171. 147. 169. 181. 174. 169. 163. 162. 176. 161. 169.\n",
            "  171. 182. 174. 179. 168. 182. 163. 159. 165. 171. 208. 191. 170. 166.\n",
            "  149. 153. 159. 188. 181. 180. 185. 163. 172. 185. 160. 170. 151. 172.\n",
            "  151. 196. 174. 174. 162. 187. 172. 174. 176. 172. 159. 175. 138. 178.\n",
            "  504. 210. 163. 174. 174. 177. 151. 193.]]\n"
          ]
        }
      ],
      "source": [
        "keys = np.zeros((8,64))\n",
        "def fun1():\n",
        "  ciphertext = open('cipher1.txt').read().split(\"\\n\")\n",
        "\n",
        "  hexcipher =[]\n",
        "  for c in ciphertext:\n",
        "    h=[]\n",
        "    if len(c) == 16:\n",
        "      for i in range(16):\n",
        "        h.extend(mapping[c[i]])\n",
        "      hexcipher.extend([h])\n",
        "\n",
        "  invres = []\n",
        "  for c in hexcipher:\n",
        "    temp=[]\n",
        "    for i in range(64):\n",
        "      temp.extend([c[RFP[i]-1]])\n",
        "\n",
        "    invres.extend([temp])\n",
        "\n",
        "  resxor = []\n",
        "  for i in range(0,len(invres)//2):\n",
        "    resxor.extend([list(np.bitwise_xor(invres[2*i],invres[2*i+1]))])\n",
        "\n",
        "  expanded = []\n",
        "\n",
        "  for i in range(0,len(invres)):\n",
        "    temp = []\n",
        "    for j in range(48):\n",
        "      temp.extend([invres[i][E[j]-1]])\n",
        "\n",
        "    expanded.extend([temp])\n",
        "\n",
        "  sin = []\n",
        "  for i in range(0,len(expanded)//2):\n",
        "    sin.extend([list(np.bitwise_xor(expanded[2*i],expanded[2*i+1]))])\n",
        "\n",
        "  L5 = [0,0,0,0,0,1]+[0]*26\n",
        "  inxor = []\n",
        "  for i in resxor:\n",
        "    inxor.extend([list(np.bitwise_xor(i[32:64],L5))])\n",
        "\n",
        "  sxor =[]\n",
        "  for i in inxor:\n",
        "    temp = []\n",
        "    for j in range(32):\n",
        "      temp.extend([i[INVP[j]-1]])\n",
        "    sxor.extend([temp])\n",
        "\n",
        "  \n",
        "\n",
        "  for i in range(len(sin)):\n",
        "    if sin[i]==\"\":\n",
        "          continue \n",
        "    for j in range(0,8):\n",
        "      inx = int(''.join([str(s) for s in sin[i][j*6:j*6+6]]),2)\n",
        "      outx = int(''.join([str(s) for s in sxor[i][j*4:j*4+4]]),2)\n",
        "      inp = int(''.join([str(s) for s in expanded[2*i+1][j*6:j*6+6]]),2)\n",
        "  \n",
        "      for k in range(0,64):\n",
        "        a = bin(k)[2:].zfill(6)\n",
        "        b = bin(k^inx)[2:].zfill(6)\n",
        "        if outx == sbox[j][int(a[0])*2 + int(a[5])][int(a[4]) + 2 *int(a[3]) + int(a[2]) * 4 + int(a[1])*8]^sbox[j][int(b[0])*2 + int(b[5])][int(b[4]) + 2 *int(b[3]) + int(b[2]) * 4 + int(b[1])*8]:\n",
        "          keys[j][k^inp]+=1\n",
        "    \n",
        "  \n",
        "  print(keys)\n",
        "\n",
        "fun1()"
      ]
    },
    {
      "cell_type": "code",
      "execution_count": 11,
      "metadata": {
        "ExecuteTime": {
          "end_time": "2022-03-10T16:18:23.947123Z",
          "start_time": "2022-03-10T16:18:23.906219Z"
        },
        "colab": {
          "base_uri": "https://localhost:8080/"
        },
        "id": "kgKwT-c6XkZk",
        "outputId": "a1f0fd26-7b4d-4039-8ee2-35823e28808e"
      },
      "outputs": [
        {
          "name": "stdout",
          "output_type": "stream",
          "text": [
            "S-box\tMax\tMean\tKey\n",
            "S1\t332.0\t170\t61\n",
            "S2\t797.0\t196\t51\n",
            "S3\t302.0\t165\t37\n",
            "S4\t246.0\t164\t7\n",
            "S5\t403.0\t171\t43\n",
            "S6\t786.0\t192\t49\n",
            "S7\t515.0\t178\t25\n",
            "S8\t504.0\t176\t56\n"
          ]
        }
      ],
      "source": [
        "maxval = [] \n",
        "mean = [] \n",
        "keyval = [] \n",
        "def fun2():\n",
        "  for i in range(len(keys)):     \n",
        "    mean.append(int(keys[i].mean()))     \n",
        "    current = max(keys[i])     \n",
        "    maxval.append(current)     \n",
        "    keyval.append(np.where(keys[i]==current)[0][0]) \n",
        "\n",
        "  print(\"S-box\"+ \"\\t\" +\"Max\" + \"\\t\" + \"Mean\" + \"\\t\" + \"Key\") \n",
        "  for i in range(0,8):     \n",
        "    print(\"S\"+ str(i+1) +\"\\t\"+ str(maxval[i]) + \"\\t\" + str(mean[i]) + \"\\t\" + str(keyval[i]))\n",
        "\n",
        "fun2()"
      ]
    },
    {
      "cell_type": "code",
      "execution_count": 13,
      "metadata": {
        "ExecuteTime": {
          "end_time": "2022-03-10T16:18:28.271132Z",
          "start_time": "2022-03-10T16:18:23.961642Z"
        },
        "colab": {
          "base_uri": "https://localhost:8080/"
        },
        "id": "cDJb6bqpdGhD",
        "outputId": "9352ed3f-f9e9-45b1-c740-8dab88128974"
      },
      "outputs": [
        {
          "name": "stdout",
          "output_type": "stream",
          "text": [
            "[[132. 122. 111. 114. 127. 107. 131. 117. 131. 134. 119.  89. 123. 132.\n",
            "  112. 119. 137. 115. 108. 109. 126. 147. 123. 107. 116. 136. 122. 120.\n",
            "  128. 132. 118. 118. 120. 135. 105. 127. 117. 137. 115. 107. 125. 126.\n",
            "  124. 104. 133. 113. 117. 138. 109. 115. 118. 124. 105. 130. 134. 116.\n",
            "  132. 122. 118. 132. 127. 297. 113. 113.]\n",
            " [125. 112. 114. 129. 125. 121. 120. 138. 122. 125. 135. 103. 127. 126.\n",
            "  154. 129. 112. 116. 132. 144. 110. 124. 135. 128.  92. 115. 136. 129.\n",
            "  119. 119. 128. 127. 112. 129. 118. 129. 101.  94. 122. 141. 110. 128.\n",
            "   92. 121. 106. 121. 102. 155. 127. 121. 148. 323. 121. 121. 126. 124.\n",
            "  113. 112. 118. 116.  94. 108. 124. 140.]\n",
            " [112. 125. 114. 116. 101. 128. 117. 120. 118. 110. 107. 113. 113. 131.\n",
            "  102.  85. 115. 124. 116. 115. 110. 114. 121. 111. 114. 112. 117. 126.\n",
            "  102. 123. 112. 109. 109. 121. 132. 111. 107. 242. 119. 129. 131. 119.\n",
            "  114. 120. 149. 117.  97. 118. 120. 134. 114. 108. 101. 112. 124. 124.\n",
            "  119. 134. 122. 131. 144. 122. 109. 118.]\n",
            " [132. 149. 123. 131. 128. 132. 217. 554. 131. 127. 105. 128. 154. 138.\n",
            "  128. 144. 157. 145. 133. 151. 115. 141. 142. 144. 168. 135. 133. 128.\n",
            "  129. 134. 149. 143. 135. 148. 134. 129. 106. 127. 140. 163. 205. 195.\n",
            "  124. 120. 128. 153. 117. 130. 128. 167. 128. 162. 105. 122. 128. 124.\n",
            "  145. 145. 122. 120. 149. 130. 126. 125.]\n",
            " [134. 104. 116. 117. 121. 135. 113. 124. 131. 136. 132. 109. 128. 125.\n",
            "  128. 120.  99. 118. 113. 141. 123. 114. 131. 136. 113. 131. 127. 115.\n",
            "  110. 108. 149. 120. 114. 116. 121. 128. 111. 133. 128. 122. 117. 114.\n",
            "  117. 322. 125. 132. 131. 122. 125. 144. 128. 115. 132. 135. 125. 130.\n",
            "  111. 132. 116. 109. 114. 127. 115. 120.]\n",
            " [136. 132. 123. 131. 134. 136. 150. 125. 108. 156. 157. 136. 126. 143.\n",
            "  127. 130. 129. 155. 131. 162. 128. 151. 132. 146. 135. 129. 142. 135.\n",
            "  126. 136. 145. 125. 122. 133. 143. 145. 136. 152. 136. 159. 130. 127.\n",
            "  117. 124. 144. 140. 132. 142. 162. 545. 158. 180. 142. 151. 117. 137.\n",
            "  104. 166. 123. 146. 137. 142. 116. 117.]\n",
            " [123. 122. 116. 118. 139. 114. 130. 117. 121. 120. 117. 121. 112. 123.\n",
            "  110. 113. 124. 134. 126. 118.  95. 115. 131. 111. 121. 237.  97. 141.\n",
            "  123. 129. 102. 121. 109. 132. 150. 137. 120. 119. 120. 122. 110. 133.\n",
            "  125. 113. 108. 122. 119. 133. 142. 104. 109. 102. 133. 115. 109. 124.\n",
            "  100. 109. 113. 116. 121. 109. 111. 102.]\n",
            " [108. 104. 120. 107. 120. 110. 146. 106. 128.  93. 109. 113. 113. 110.\n",
            "  133. 130. 125. 134. 102. 101. 113. 111.  97. 128. 127. 132. 105. 114.\n",
            "  134. 106. 117. 126. 130. 109. 112. 100. 108. 126. 109. 128. 123. 102.\n",
            "  124. 138. 121. 106. 109. 116. 117. 120. 141. 129. 122. 124. 112. 115.\n",
            "  206. 124. 117. 118. 126. 125. 115. 118.]]\n"
          ]
        }
      ],
      "source": [
        "keys = np.zeros((8,64))\n",
        "def fun3():\n",
        "  ciphertext = open('cipher2.txt').read().split(\"\\n\")\n",
        "\n",
        "  hexcipher =[]\n",
        "  for c in ciphertext:\n",
        "    h=[]\n",
        "    if len(c) == 16:\n",
        "      for i in range(16):\n",
        "        h.extend(mapping[c[i]])\n",
        "      hexcipher.extend([h])\n",
        "\n",
        "  invres = []\n",
        "  for c in hexcipher:\n",
        "    temp=[]\n",
        "    for i in range(64):\n",
        "      temp.extend([c[RFP[i]-1]])\n",
        "    invres.extend([temp])\n",
        "\n",
        "  resxor = []\n",
        "  for i in range(0,len(invres)-1,2):\n",
        "    resxor.extend([list(np.bitwise_xor(invres[i],invres[i+1]))])\n",
        "\n",
        "  expanded = []\n",
        "\n",
        "  for i in invres:\n",
        "    temp = []\n",
        "    for j in range(48):\n",
        "      temp.extend([i[E[j]-1]])\n",
        "    expanded.extend([temp])\n",
        "\n",
        "  sin = []\n",
        "  for i in range(0,len(expanded)-1,2):\n",
        "    sin.extend([list(np.bitwise_xor(expanded[i],expanded[i+1]))])\n",
        "\n",
        "  L5 = [0,0,0,0,0,0,0,0,0,0,0,0,0,0,0,0,0,0,0,0,0,1,0,0,0,0,0,0,0,0,0,0]\n",
        "  inxor = []\n",
        "  for i in resxor:\n",
        "    inxor.extend([list(np.bitwise_xor(i[32:64],L5))])\n",
        "\n",
        "  sxor =[]\n",
        "  for i in inxor:\n",
        "    temp = []\n",
        "    for j in range(32):\n",
        "      temp.extend([i[INVP[j]-1]])\n",
        "    sxor.extend([temp])\n",
        "\n",
        "  for i in range(len(sin)):\n",
        "    for j in range(0,8):\n",
        "      inx = int(''.join([str(s) for s in sin[i][j*6:j*6+6]]),2)\n",
        "      outx = int(''.join([str(s) for s in sxor[i][j*4:j*4+4]]),2)\n",
        "      inp = int(''.join([str(s) for s in expanded[2*i+1][j*6:j*6+6]]),2)\n",
        "\n",
        "      for k in range(0,64):\n",
        "        a = bin(k)[2:].zfill(6)\n",
        "        b = bin(k^inx)[2:].zfill(6)\n",
        "        if outx == sbox[j][int(a[0])*2 + int(a[5])][int(a[4]) + 2 *int(a[3]) + int(a[2]) * 4 + int(a[1])*8]^sbox[j][int(b[0])*2 + int(b[5])][int(b[4]) + 2 *int(b[3]) + int(b[2]) * 4 + int(b[1])*8]:\n",
        "          keys[j][k^inp]+=1\n",
        "  \n",
        "  print(keys)\n",
        "\n",
        "fun3()"
      ]
    },
    {
      "cell_type": "code",
      "execution_count": 14,
      "metadata": {
        "ExecuteTime": {
          "end_time": "2022-03-10T16:18:28.287092Z",
          "start_time": "2022-03-10T16:18:28.273127Z"
        },
        "colab": {
          "base_uri": "https://localhost:8080/"
        },
        "id": "nWfnWJ9edaNE",
        "outputId": "a47aedb1-c913-46b4-cf2d-f770db390075"
      },
      "outputs": [
        {
          "name": "stdout",
          "output_type": "stream",
          "text": [
            "S-box\tMax\tMean\tKey\n",
            "S1\t297.0\t123\t61\n",
            "S2\t323.0\t124\t51\n",
            "S3\t242.0\t119\t37\n",
            "S4\t554.0\t144\t7\n",
            "S5\t322.0\t125\t43\n",
            "S6\t545.0\t143\t49\n",
            "S7\t237.0\t120\t25\n",
            "S8\t206.0\t118\t56\n"
          ]
        }
      ],
      "source": [
        "maxval = [] \n",
        "mean = [] \n",
        "keyval = [] \n",
        "def fun4():\n",
        "  for i in range(len(keys)):     \n",
        "    mean.append(int(keys[i].mean()))     \n",
        "    current = max(keys[i])     \n",
        "    maxval.append(current)     \n",
        "    keyval.append(np.where(keys[i]==current)[0][0]) \n",
        "\n",
        "  print(\"S-box\"+ \"\\t\" +\"Max\" + \"\\t\" + \"Mean\" + \"\\t\" + \"Key\") \n",
        "  for i in range(0,8):     \n",
        "    print(\"S\"+ str(i+1) +\"\\t\"+ str(maxval[i]) + \"\\t\" + str(mean[i]) + \"\\t\" + str(keyval[i]))\n",
        "\n",
        "fun4()"
      ]
    },
    {
      "cell_type": "code",
      "execution_count": 24,
      "metadata": {
        "ExecuteTime": {
          "end_time": "2022-03-10T16:18:28.319008Z",
          "start_time": "2022-03-10T16:18:28.293075Z"
        },
        "colab": {
          "base_uri": "https://localhost:8080/"
        },
        "id": "YfAB7ROL735d",
        "outputId": "7fad0010-d6a1-4407-d1e7-152ba1a1f32c"
      },
      "outputs": [
        {
          "name": "stdout",
          "output_type": "stream",
          "text": [
            "X11XX1XX01011X100XX11X11001X1111001X10011000X00X1111X001\n"
          ]
        }
      ],
      "source": [
        "sbkey = \"111101110011XXXXXX000111101011110001011001111000\"\n",
        "key = ['X']*56\n",
        "\n",
        "for i in range(48):\n",
        "  key[PC2[i]-1] = sbkey[i]\n",
        "\n",
        "for i in range(0,6):\n",
        "  for j in range(shift_table[i]):\n",
        "    x = key[27]\n",
        "    y = key[55]\n",
        "\n",
        "    for k in range(27,0,-1):\n",
        "      key[k] = key[k-1]\n",
        "      key[k+28] = key[k+27]\n",
        "\n",
        "    key[0] = x\n",
        "    key[28] = y\n",
        "\n",
        "print(''.join(key))\n",
        "miskey = ''.join(key)"
      ]
    },
    {
      "cell_type": "code",
      "execution_count": 25,
      "metadata": {
        "ExecuteTime": {
          "end_time": "2022-03-10T16:18:28.728911Z",
          "start_time": "2022-03-10T16:18:28.323996Z"
        },
        "id": "WX0HMhoD-tm4"
      },
      "outputs": [],
      "source": [
        "poskey = []\n",
        "binlist = []\n",
        "for i in range(2**14):\n",
        "  x = str(bin(i)[2:])\n",
        "  binlist.append(('0')*(14-len(x))+x)\n",
        "\n",
        "for i in binlist:\n",
        "  j = 0\n",
        "  tempkey = list(miskey)\n",
        "  for k in range(len(tempkey)):\n",
        "    if tempkey[k] == 'X':\n",
        "      tempkey[k] = i[j]\n",
        "      j+=1\n",
        "  poskey.append(''.join(tempkey))\n",
        "\n",
        "\n",
        "\n",
        "def roundkey(k,rno):\n",
        "  left = k[0:28]\n",
        "  right = k[28:56]\n",
        "\n",
        "  binkey = []\n",
        "\n",
        "  for i in range(rno):\n",
        "    left = shift(left,shift_table[i])\n",
        "    right = shift(right,shift_table[i])\n",
        "\n",
        "    key = left + right\n",
        "\n",
        "    binkey.extend([permute(key,key_comp,48)])\n",
        "\n",
        "  return binkey\n",
        "\n",
        "\n",
        "def encryption(mess,key,rno):\n",
        "\n",
        "  mess = permute(mess,initial_perm,64)\n",
        "\n",
        "  left = mess[:32]\n",
        "  right = mess[32:]\n",
        "\n",
        "  for i in range(rno):\n",
        "    expmess = permute(right,E,48)\n",
        "    inxor = str(bin(np.bitwise_xor(int(expmess,2),int(key[i],2)))[2:])\n",
        "    if(len(inxor)!=48):\n",
        "      inxor= ('0'*(48-len(inxor)))+inxor\n",
        "    sout = ''\n",
        "    for j in range(8):\n",
        "      temp = (bin(sbox[j][int(inxor[j*6]+inxor[j*6+5],2)][int(inxor[j*6+1:j*6+5],2)])[2:])\n",
        "      sout+= ('0'*(4-len(temp))+temp)\n",
        "    sout = permute(sout,sboxper,32)\n",
        "\n",
        "    roundxor = str(bin(np.bitwise_xor(int(left,2),int(sout,2)))[2:])\n",
        "    if(len(roundxor)!=32):\n",
        "      roundxor= ('0'*(32-len(roundxor)))+roundxor\n",
        "    left = roundxor\n",
        "\n",
        "    if(i!=5):\n",
        "      t = left\n",
        "      left = right\n",
        "      right = t\n",
        "\n",
        "    \n",
        "  outmess = left + right\n",
        "  cipher = permute(outmess,final_perm,64)\n",
        "\n",
        "  return cipher\n"
      ]
    },
    {
      "cell_type": "code",
      "execution_count": 27,
      "metadata": {
        "ExecuteTime": {
          "end_time": "2022-03-10T16:18:30.284350Z",
          "start_time": "2022-03-10T16:18:28.730904Z"
        },
        "colab": {
          "base_uri": "https://localhost:8080/"
        },
        "id": "6rpKAIciHowg",
        "outputId": "09791103-52ab-4bf9-f02d-1e9cb66d77e1"
      },
      "outputs": [
        {
          "name": "stdout",
          "output_type": "stream",
          "text": [
            "The key is 01101110010111100111101100101111001110011000100111110001 \n",
            "\n",
            "Round 0 key is 111011000100111110000111001011111001111110001110\n",
            "Round 1 key is 011011110011011101100010000011100011011110101010\n",
            "Round 2 key is 111010101101110011101101111111000111100101100101\n",
            "Round 3 key is 110110011110001101011010011000101100101011111010\n",
            "Round 4 key is 001001001101111110111011110101011011110100011011\n",
            "Round 5 key is 111101110011100101000111101011110001011001111000\n"
          ]
        }
      ],
      "source": [
        "mainkey = ''\n",
        "binplain = ''\n",
        "for i in 'fghijklmnopqrstu':\n",
        "  binplain+= f2u_mapping[i]\n",
        "\n",
        "bincipher = ''\n",
        "for i in \"kfnrhmtrhgjhqghf\":\n",
        "  bincipher+=f2u_mapping[i]\n",
        "\n",
        "for k in poskey:\n",
        "  key = roundkey(k,6)\n",
        "  if(encryption(binplain,key,6)== bincipher):\n",
        "    mainkey = k\n",
        "    print('The key is',k,'\\n')\n",
        "    for i in range(6):\n",
        "      print('Round',i,'key is',key[i])\n",
        "    \n",
        "    break\n"
      ]
    },
    {
      "cell_type": "code",
      "execution_count": 28,
      "metadata": {
        "ExecuteTime": {
          "end_time": "2022-03-10T16:18:30.300308Z",
          "start_time": "2022-03-10T16:18:30.286344Z"
        },
        "colab": {
          "base_uri": "https://localhost:8080/"
        },
        "id": "CzR_LLWrSshU",
        "outputId": "3c8eb56d-3ebb-4dff-fabc-6c65bcd604e7"
      },
      "outputs": [
        {
          "name": "stdout",
          "output_type": "stream",
          "text": [
            "0,1,1,0,1,1,1,0,0,1,0,1,1,1,1,0,0,1,1,1,1,0,1,1,0,0,1,0,1,1,1,1,0,0,1,1,1,0,0,1,1,0,0,0,1,0,0,1,1,1,1,1,0,0,0,1,None\n"
          ]
        }
      ],
      "source": [
        "def printing():\n",
        "    for i in mainkey:\n",
        "        print(i+',',end='')\n",
        "\n",
        "print(printing())"
      ]
    },
    {
      "cell_type": "code",
      "execution_count": 29,
      "metadata": {
        "ExecuteTime": {
          "end_time": "2022-03-10T16:18:30.331237Z",
          "start_time": "2022-03-10T16:18:30.304297Z"
        },
        "colab": {
          "base_uri": "https://localhost:8080/"
        },
        "id": "wRFh635gTDg1",
        "outputId": "d778f57d-19db-4224-e0a7-cc4124b0dccb"
      },
      "outputs": [
        {
          "name": "stdout",
          "output_type": "stream",
          "text": [
            "ho 41\n",
            "mf 112\n",
            "pk 165\n",
            "mj 116\n",
            "nt 142\n",
            "pg 161\n",
            "ti 227\n",
            "ih 50\n",
            "il 54\n",
            "go 25\n",
            "gh 18\n",
            "gp 26\n",
            "lm 103\n",
            "ks 93\n",
            "gn 24\n",
            "si 211\n"
          ]
        }
      ],
      "source": [
        "def password():\n",
        "    password = \"homfpkmjntpgtiihilgoghgplmksgnsi\"\n",
        "    for i in range(0,len(password),2):\n",
        "        a = f2u_mapping[password[i]]+f2u_mapping[password[i+1]]\n",
        "        b = int(a,2)\n",
        "        print(password[i:i+2],b)\n",
        "password()"
      ]
    }
  ],
  "metadata": {
    "colab": {
      "provenance": []
    },
    "kernelspec": {
      "display_name": "Python 3",
      "language": "python",
      "name": "python3"
    },
    "language_info": {
      "codemirror_mode": {
        "name": "ipython",
        "version": 3
      },
      "file_extension": ".py",
      "mimetype": "text/x-python",
      "name": "python",
      "nbconvert_exporter": "python",
      "pygments_lexer": "ipython3",
      "version": "3.9.15"
    },
    "varInspector": {
      "cols": {
        "lenName": 16,
        "lenType": 16,
        "lenVar": 40
      },
      "kernels_config": {
        "python": {
          "delete_cmd_postfix": "",
          "delete_cmd_prefix": "del ",
          "library": "var_list.py",
          "varRefreshCmd": "print(var_dic_list())"
        },
        "r": {
          "delete_cmd_postfix": ") ",
          "delete_cmd_prefix": "rm(",
          "library": "var_list.r",
          "varRefreshCmd": "cat(var_dic_list()) "
        }
      },
      "types_to_exclude": [
        "module",
        "function",
        "builtin_function_or_method",
        "instance",
        "_Feature"
      ],
      "window_display": false
    }
  },
  "nbformat": 4,
  "nbformat_minor": 0
}
