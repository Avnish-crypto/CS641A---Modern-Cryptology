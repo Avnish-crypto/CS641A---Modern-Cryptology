{
 "cells": [
  {
   "cell_type": "code",
   "execution_count": 18,
   "metadata": {},
   "outputs": [],
   "source": [
    "S=[\n",
    "  [14, 4, 13, 1, 2, 15, 11, 8, 3 , 10, 6, 12, 5, 9, 0, 7,\n",
    "  0, 15, 7, 4, 14, 2, 13, 1, 10, 6, 12, 11, 9, 5, 3, 8,\n",
    "  4, 1 , 14, 8, 13, 6, 2, 11, 15, 12, 9, 7,3, 10, 5, 0,\n",
    "  15, 12, 8,2,4, 9, 1,7 , 5, 11, 3, 14, 10, 0, 6, 13 ],\n",
    "\n",
    "  [15, 1, 8, 14, 6, 11, 3, 4, 9, 7, 2, 13, 12, 0,5, 10,\n",
    "  3, 13, 4, 7, 15, 2, 8, 14, 12, 0, 1, 10, 6, 9, 11, 5,\n",
    "  0, 14, 7, 11, 10, 4, 13, 1, 5, 8,12, 6, 9, 3, 2, 15,\n",
    "  13, 8, 10, 1, 3, 15, 4, 2,11,6, 7, 12, 0,5, 14, 9],\n",
    "\n",
    "  [10, 0, 9,14,6,3,15,5, 1, 13, 12, 7, 11, 4,2,8,\n",
    "  13, 7, 0, 9, 3, 4, 6, 10, 2, 8, 5, 14, 12, 11, 15, 1,\n",
    "  13, 6, 4, 9, 8, 15, 3, 0, 11, 1, 2, 12,5, 10, 14, 7,\n",
    "  1, 10, 13, 0, 6, 9, 8, 7, 4, 15, 14, 3, 11, 5, 2, 12],\n",
    "\n",
    "  [7, 13, 14, 3, 0, 6, 9, 10, 1, 2, 8, 5, 11, 12, 4, 15,\n",
    "  13, 8, 11, 5, 6, 15, 0, 3, 4, 7, 2, 12, 1, 10, 14, 9,\n",
    "  10, 6, 9, 0, 12, 11, 7, 13, 15, 1 , 3, 14, 5, 2, 8, 4,\n",
    "  3, 15, 0, 6, 10, 1, 13, 8, 9, 4, 5, 11, 12, 7, 2, 14],\n",
    "\n",
    "\n",
    "  [2, 12, 4, 1, 7, 10, 11, 6, 8, 5, 3, 15, 13, 0, 14, 9,\n",
    "  14, 11,2, 12, 4, 7, 13, 1, 5, 0, 15, 10, 3, 9, 8, 6,\n",
    "  4, 2, 1, 11, 10, 13, 7, 8, 15, 9, 12, 5, 6, 3, 0, 14,\n",
    "  11, 8, 12, 7, 1, 14, 2, 13, 6, 15, 0, 9, 10, 4, 5, 3],\n",
    "\n",
    "\n",
    "\n",
    "  [12, 1, 10, 15, 9, 2, 6,8, 0, 13, 3, 4, 14, 7, 5, 11,\n",
    "  10, 15, 4, 2, 7, 12, 9, 5, 6, 1, 13, 14, 0, 11, 3, 8,\n",
    "  9, 14, 15, 5, 2,8, 12, 3, 7, 0, 4, 10, 1, 13, 11, 6,\n",
    "  4, 3, 2, 12, 9, 5, 15, 10, 11, 14, 1, 7, 6, 0, 8, 13],\n",
    "\n",
    "  [4, 11, 2, 14, 15, 0, 8, 13, 3, 12, 9, 7, 5, 10, 6, 1,\n",
    "  13, 0, 11, 7, 4, 9, 1, 10, 14, 3, 5, 12, 2, 15, 8, 6,\n",
    "  1, 4, 11, 13, 12, 3, 7, 14, 10, 15, 6, 8, 0, 5, 9, 2,\n",
    "  6, 11, 13, 8, 1, 4, 10, 7, 9, 5, 0, 15, 14, 2, 3, 12],\n",
    "\n",
    "  [13, 2, 8, 4, 6, 15, 11, 1, 10, 9, 3, 14, 5, 0, 12,7,\n",
    "  1, 15, 13, 8, 10, 3, 7, 4, 12, 5, 6, 11, 0, 14, 9, 2,\n",
    "  7, 11, 4, 1, 9, 12, 14, 2, 0, 6, 10, 13, 15, 3, 5, 8,\n",
    "  2, 1, 14, 7, 4, 10, 8, 13, 15, 12, 9, 0, 3, 5, 6, 11 ]]"
   ]
  },
  {
   "cell_type": "code",
   "execution_count": 19,
   "metadata": {},
   "outputs": [],
   "source": [
    "shifts = [1, 1, 2, 2, 2, 2, 2, 2, 1, 2, 2, 2, 2, 2, 2, 1]"
   ]
  },
  {
   "cell_type": "code",
   "execution_count": 20,
   "metadata": {},
   "outputs": [],
   "source": [
    "PC2 = [\n",
    "  14, 17, 11, 24,  1, 5,\n",
    "  3, 28 ,15,  6, 21, 10,\n",
    "  23, 19, 12,  4, 26, 8,\n",
    "  16,  7, 27, 20, 13, 2,\n",
    "  41, 52, 31, 37, 47, 55,\n",
    "  30, 40, 51, 45, 33, 48,\n",
    "  44, 49, 39, 56, 34, 53,\n",
    "  46, 42, 50, 36, 29, 32\n",
    "]"
   ]
  },
  {
   "cell_type": "code",
   "execution_count": 21,
   "metadata": {},
   "outputs": [],
   "source": [
    "# Initial Permutations\n",
    "IP = [58,50,42, 34,26,18,10,2,60,52,44,36,28,20,12,4,62,54, 46, 38, 30, 22, 14,6,64, 56, 48, 40,32,24, 16, 8,57, 49, 41, 33,25,17, 9,1,59, 51,43,35,27,19,11,3,61,53,45,37,29,21,13, 5,63,55, 47,39,31,23,15,7]\n",
    "invip = [\n",
    "40,8,48,16,56,24,64,32,\n",
    "39,7,47,15,55,23,63,31,\n",
    "38,6,46,14,54,22,62,30,\n",
    "37,5,45,13,53,21,61,29,\n",
    "36,4,44,12,52,20,60,28,\n",
    "35,3,43,11,51,19,59,27,\n",
    "34,2,42,10,50,18,58,26,\n",
    "33,1,41,9,49,17,57,25]"
   ]
  },
  {
   "cell_type": "code",
   "execution_count": 22,
   "metadata": {},
   "outputs": [],
   "source": [
    "#Reverese Permuation\n",
    "RFP = [\n",
    "  8,40,16,48,24,56,32,64,\n",
    "  7, 39,15,47,23,55,31,63,\n",
    "  6,38,14,46,22,54,30,62,\n",
    "  5,37,13,45, 21,53,29,61,\n",
    "  4,36,12,44,20,52,28,60,\n",
    "  3, 35, 11,43,19,51,27,59,\n",
    "  2, 34, 10, 42,18, 50,26,58,\n",
    "  1,33,9,41, 17, 49, 25,57,\n",
    "]"
   ]
  },
  {
   "cell_type": "code",
   "execution_count": 23,
   "metadata": {},
   "outputs": [],
   "source": [
    "# E BIT_SELECTION TABLE\n",
    "E =[\n",
    "  32, 1, 2, 3, 4, 5,\n",
    "  4, 5,6, 7, 8, 9,\n",
    "  8, 9, 10, 11, 12, 13,\n",
    "  12, 13, 14, 15, 16, 17,\n",
    "  16, 17, 18, 19, 20, 21,\n",
    "  20, 21, 22, 23, 24, 25,\n",
    "  24, 25, 26, 27, 28, 29,\n",
    "  28, 29, 30, 31, 32, 1\n",
    "]"
   ]
  },
  {
   "cell_type": "code",
   "execution_count": 24,
   "metadata": {},
   "outputs": [],
   "source": [
    "# PERMUTATION FUNCTION P \n",
    "P = [\n",
    "  16, 7, 20, 21,\n",
    "  29, 12, 28, 17,\n",
    "  1, 15, 23, 26,\n",
    "  5, 18, 31,10,\n",
    "  2, 8, 24, 14,\n",
    "  32, 27, 3, 9,\n",
    "  19, 13, 30, 6,\n",
    "  22, 11, 4, 25,\n",
    "]"
   ]
  },
  {
   "cell_type": "code",
   "execution_count": 25,
   "metadata": {},
   "outputs": [],
   "source": [
    "# Inverse of P \n",
    "INV_P = [\n",
    "\t9, 17, 23, 31,\n",
    "\t13, 28, 2, 18,\n",
    "\t24, 16, 30, 6,\n",
    "\t26, 20, 10, 1,\n",
    "\t8, 14, 25, 3,\n",
    "\t4, 29, 11, 19,\n",
    "\t32, 12, 22, 7,\n",
    "\t5, 27, 15, 21,\n",
    "]\n",
    "invrfp= [\n",
    " 57,49,41,33,25,17,9,1,\n",
    " 59,51,43,35,27,19,11,3,\n",
    " 61,53,45,37,29,21,13,5,\n",
    " 63,55,47,39,31,23,15,7,\n",
    " 58,50,42,34,26,18,10,2,\n",
    " 60,52,44,36,28,20,12,4,\n",
    " 62,54,46,38,30,22,14,6,\n",
    " 64,56,48,40,32,24,16,8\n",
    "]"
   ]
  },
  {
   "cell_type": "code",
   "execution_count": 26,
   "metadata": {},
   "outputs": [],
   "source": [
    "import numpy as np\n",
    "KS = np.zeros(shape=(16, 48))"
   ]
  },
  {
   "cell_type": "code",
   "execution_count": 31,
   "metadata": {},
   "outputs": [],
   "source": [
    "def unpack8(packed, binary):\n",
    "    for i in range(8):\n",
    "        k = packed[i]\n",
    "        for j in range(8):\n",
    "            binary[i * 8 + (7 - j)] = (k >> j) & 1\n",
    "\n",
    "\n",
    "def pack8(packed, binary):\n",
    "    for i in range(8):\n",
    "        k = 0\n",
    "        for j in range(8):\n",
    "            k = (k << 1) | binary[i * 8 + j]\n",
    "        packed[i] = k"
   ]
  },
  {
   "cell_type": "code",
   "execution_count": 37,
   "metadata": {},
   "outputs": [],
   "source": [
    "def set_the_key(sw1,CD,r):\n",
    "    for i in range(r):\n",
    "        for j in range(shifts[i]):\n",
    "            t1 = CD[0]\n",
    "            t2 = CD[28]\n",
    "            for k in range(27):\n",
    "                CD[k] = CD[k+1]\n",
    "                CD[k+28] = CD[k+29]\n",
    "            CD[27] = t1\n",
    "            CD[55] = t2\n",
    "        if sw1:\n",
    "            j = r-1-i\n",
    "        else:\n",
    "            j = i\n",
    "        for k in range(48):\n",
    "            KS[j][k] = CD[PC2[k]-1]"
   ]
  },
  {
   "cell_type": "code",
   "execution_count": 44,
   "metadata": {},
   "outputs": [],
   "source": [
    "def des(iin,out,r,flag):\n",
    "    i = j = k = t = 0\n",
    "    block = [] \n",
    "    LR = f = preS = []\n",
    "    print(inn,block)\n",
    "    unpack8(iin, block)\n",
    "    for j in range(64):\n",
    "        LR[j] = block[invrfp[j] -1]\n",
    "                \n",
    "    for i in range(r):\n",
    "        for j in range(48):\n",
    "            preS[j] = LR[E[j]-1] ^ KS[i][j]\n",
    "\n",
    "        for j in range(8):\n",
    "                k= 6*j\n",
    "                t= preS[k]\n",
    "                t = (t<<1) | preS[k+5]\n",
    "                t = (t<<1)| preS[k+1]\n",
    "                t = (t<<1)| preS[k+2]\n",
    "                t = (t<<1)| preS[k+3]\n",
    "                t = (t<<1)| preS[k+4]\n",
    "                t = S[j][t]\n",
    "                k= 4*j\n",
    "                f[k] = (t>>3)&1\n",
    "                f[k+1] = (t >> 2) & 1\n",
    "                f[k+2] = (t >> 1) & 1\n",
    "                f[k+3] = t &1\n",
    "\n",
    "\n",
    "\n",
    "        for j in range(32):\n",
    "                if (flag == 'N'):\n",
    "                    LR[j] = LR[j+32]^f[P[j] -1]\n",
    "                else:\n",
    "                    LR[j] = LR[j+32]^f[INV_P[j] -1]\n",
    "            \n",
    "                LR[j+32] =t\n",
    "    \n",
    "\n",
    "    for j in range(64):\n",
    "        block [j] = LR[invip[j]-1]\n",
    "\n",
    "\n",
    "\n",
    "    pack8(out, block)\n"
   ]
  },
  {
   "cell_type": "code",
   "execution_count": 47,
   "metadata": {},
   "outputs": [
    {
     "ename": "NameError",
     "evalue": "name 'inn' is not defined",
     "output_type": "error",
     "traceback": [
      "\u001b[1;31m---------------------------------------------------------------------------\u001b[0m",
      "\u001b[1;31mNameError\u001b[0m                                 Traceback (most recent call last)",
      "Cell \u001b[1;32mIn[47], line 6\u001b[0m\n\u001b[0;32m      4\u001b[0m encrypted_password1 \u001b[39m=\u001b[39m [\u001b[39m41\u001b[39m,\u001b[39m112\u001b[39m,\u001b[39m165\u001b[39m,\u001b[39m116\u001b[39m,\u001b[39m142\u001b[39m,\u001b[39m161\u001b[39m,\u001b[39m227\u001b[39m,\u001b[39m50\u001b[39m]\n\u001b[0;32m      5\u001b[0m encrypted_password2 \u001b[39m=\u001b[39m [\u001b[39m54\u001b[39m,\u001b[39m25\u001b[39m,\u001b[39m18\u001b[39m,\u001b[39m26\u001b[39m,\u001b[39m103\u001b[39m,\u001b[39m93\u001b[39m,\u001b[39m24\u001b[39m,\u001b[39m211\u001b[39m]\n\u001b[1;32m----> 6\u001b[0m des(encrypted_password1,password,\u001b[39m6\u001b[39;49m,\u001b[39m'\u001b[39;49m\u001b[39mN\u001b[39;49m\u001b[39m'\u001b[39;49m)\n\u001b[0;32m      7\u001b[0m \u001b[39mfor\u001b[39;00m i \u001b[39min\u001b[39;00m \u001b[39mrange\u001b[39m(\u001b[39m8\u001b[39m):\n\u001b[0;32m      8\u001b[0m         \u001b[39mprint\u001b[39m(password[i])\n",
      "Cell \u001b[1;32mIn[44], line 6\u001b[0m, in \u001b[0;36mdes\u001b[1;34m(iin, out, r, flag)\u001b[0m\n\u001b[0;32m      4\u001b[0m LR \u001b[39m=\u001b[39m f \u001b[39m=\u001b[39m preS \u001b[39m=\u001b[39m []\n\u001b[0;32m      5\u001b[0m \u001b[39m# int z;\u001b[39;00m\n\u001b[1;32m----> 6\u001b[0m \u001b[39mprint\u001b[39m(inn,block)\n\u001b[0;32m      7\u001b[0m unpack8(iin, block)\n\u001b[0;32m      8\u001b[0m \u001b[39mfor\u001b[39;00m j \u001b[39min\u001b[39;00m \u001b[39mrange\u001b[39m(\u001b[39m64\u001b[39m):\n",
      "\u001b[1;31mNameError\u001b[0m: name 'inn' is not defined"
     ]
    }
   ],
   "source": [
    "password = []\n",
    "key = [0,1,1,0,1,1,1,0,0,1,0,1,1,1,1,0,0,1,1,1,1,0,1,1,0,0,1,0,1,1,1,1,0,0,1,1,1,0,0,1,1,0,0,0,1,0,0,1,1,1,1,1,0,0,0,1]\n",
    "set_the_key(1,key,6)\n",
    "encrypted_password1 = [41,112,165,116,142,161,227,50]\n",
    "encrypted_password2 = [54,25,18,26,103,93,24,211]\n",
    "des(encrypted_password1,password,6,'N')\n",
    "for i in range(8):\n",
    "        print(password[i])\n",
    "des(encrypted_password2,password,6,'N')\n",
    "for i in range(8):\n",
    "        print(password[i])\n"
   ]
  },
  {
   "cell_type": "code",
   "execution_count": 49,
   "metadata": {},
   "outputs": [
    {
     "name": "stdout",
     "output_type": "stream",
     "text": [
      "a\n",
      "6\n"
     ]
    }
   ],
   "source": [
    "def u(r):\n",
    "    print(r)\n",
    "    print(3+3)\n",
    "u('a')"
   ]
  },
  {
   "cell_type": "code",
   "execution_count": null,
   "metadata": {},
   "outputs": [],
   "source": []
  }
 ],
 "metadata": {
  "kernelspec": {
   "display_name": "base",
   "language": "python",
   "name": "python3"
  },
  "language_info": {
   "codemirror_mode": {
    "name": "ipython",
    "version": 3
   },
   "file_extension": ".py",
   "mimetype": "text/x-python",
   "name": "python",
   "nbconvert_exporter": "python",
   "pygments_lexer": "ipython3",
   "version": "3.9.15"
  },
  "orig_nbformat": 4
 },
 "nbformat": 4,
 "nbformat_minor": 2
}
